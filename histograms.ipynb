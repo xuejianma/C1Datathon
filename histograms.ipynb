{
 "cells": [
  {
   "cell_type": "code",
   "execution_count": null,
   "metadata": {},
   "outputs": [],
   "source": [
    "import pandas as pd\n",
    "import numpy as np\n",
    "import matplotlib.pyplot as plt\n",
    "from os import listdir\n",
    "from os.path import isfile, join\n",
    "mypath = './datasets_full/London/'\n",
    "onlyfiles = [f for f in listdir(mypath) if isfile(join(mypath, f))]\n",
    "for file in ['UK_international-visits.csv']:\n",
    "    try:\n",
    "        print(file)\n",
    "        df = pd.read_csv(mypath+file)\n",
    "        hist_col = []\n",
    "        for col in df.columns:\n",
    "            if len(df[col].unique())<=1000:\n",
    "                hist_col.append(col)\n",
    "        fig,axs = plt.subplots(len(hist_col)//5+1,5,figsize=(40,20))\n",
    "        fig.suptitle(file, fontsize=30)\n",
    "        for i,col in enumerate(hist_col):\n",
    "            \n",
    "            if len(df.columns)//5+1==1:\n",
    "                ax = axs[i]\n",
    "            else:\n",
    "                ax = axs[i//5,i%5]\n",
    "            ax.set_title(col,fontsize=40)\n",
    "            df[col].hist(ax=ax)\n",
    "            ax.tick_params(axis='x', labelrotation= 90)\n",
    "        plt.tight_layout(pad=6)\n",
    "        plt.savefig('./datasets_full/histograms/'+file[:-4]+'.jpg')\n",
    "    except:\n",
    "        print(file+',error')\n",
    "\n",
    "\n"
   ]
  }
 ],
 "metadata": {
  "kernelspec": {
   "display_name": "Python 3",
   "language": "python",
   "name": "python3"
  },
  "language_info": {
   "codemirror_mode": {
    "name": "ipython",
    "version": 3
   },
   "file_extension": ".py",
   "mimetype": "text/x-python",
   "name": "python",
   "nbconvert_exporter": "python",
   "pygments_lexer": "ipython3",
   "version": "3.7.4"
  }
 },
 "nbformat": 4,
 "nbformat_minor": 2
}
